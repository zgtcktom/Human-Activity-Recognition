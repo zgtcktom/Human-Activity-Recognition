{
 "cells": [
  {
   "cell_type": "code",
   "execution_count": 1,
   "metadata": {},
   "outputs": [],
   "source": [
    "import os\n",
    "import numpy as np\n",
    "import pandas as pd\n",
    "import pickle\n",
    "from tqdm import tqdm"
   ]
  },
  {
   "cell_type": "code",
   "execution_count": 2,
   "metadata": {},
   "outputs": [],
   "source": [
    "data_path = '../dataset/WISDM_at_v2.0/WISDM_at_v2.0_unlabeled_raw.txt'\n",
    "max_interval = 1000\n",
    "min_timestamp = 10\n",
    "min_step = 10\n",
    "freq = '50ms'"
   ]
  },
  {
   "cell_type": "code",
   "execution_count": 3,
   "metadata": {},
   "outputs": [
    {
     "name": "stdout",
     "output_type": "stream",
     "text": [
      "unlabeled/* already exists\n"
     ]
    }
   ],
   "source": [
    "cache_dir = 'unlabeled'\n",
    "\n",
    "if len(os.listdir(cache_dir)):\n",
    "    print(f'{cache_dir}/* already exists')\n",
    "else:\n",
    "    print(f'writing {cache_dir}')\n",
    "    with open(data_path, 'r') as file:\n",
    "        prev_user = None\n",
    "        prev_timestamp = None\n",
    "        series = None\n",
    "        series_count = 0\n",
    "        for line in tqdm(file):\n",
    "            cols = line[:-2].split(',')\n",
    "\n",
    "            if len(cols) != 6: continue\n",
    "\n",
    "            user, activity, timestamp, x_acc, y_acc, z_acc = cols\n",
    "            timestamp = int(timestamp)\n",
    "            x_acc = float(x_acc)\n",
    "            y_acc = float(y_acc)\n",
    "            z_acc = float(z_acc)\n",
    "\n",
    "            if timestamp < 0: continue\n",
    "\n",
    "            item = (timestamp, activity, x_acc, y_acc, z_acc)\n",
    "            if prev_user == user and timestamp - prev_timestamp < max_interval and timestamp >= prev_timestamp:\n",
    "                if prev_timestamp != timestamp:\n",
    "                    series.append(item)\n",
    "            else:\n",
    "                if series and len(series) >= min_timestamp:\n",
    "                    with open(os.path.join(cache_dir, f'{series_count}.pkl'), 'wb') as cache_file:\n",
    "                        pickle.dump(series, cache_file)\n",
    "                        series_count += 1\n",
    "                series = [item]\n",
    "            prev_user = user\n",
    "            prev_timestamp = timestamp\n",
    "\n",
    "        if series and len(series) >= min_timestamp:\n",
    "            with open(os.path.join(cache_dir, f'{series_count}.pkl'), 'wb') as cache_file:\n",
    "                pickle.dump(series, cache_file)\n",
    "                series_count += 1"
   ]
  },
  {
   "cell_type": "code",
   "execution_count": 4,
   "metadata": {
    "scrolled": false
   },
   "outputs": [
    {
     "name": "stderr",
     "output_type": "stream",
     "text": [
      "100%|█████████████████████████████████████████████████████████████████████████████| 3721/3721 [00:21<00:00, 171.26it/s]\n"
     ]
    }
   ],
   "source": [
    "if 0:\n",
    "    series_lens = []\n",
    "    for fname in tqdm(os.listdir(cache_dir)):\n",
    "        with open(os.path.join(cache_dir, fname), 'rb') as file:\n",
    "            series = pickle.load(file)\n",
    "        series_lens.append(len(series))\n",
    "\n",
    "    series_lens = np.asarray(series_lens)\n",
    "\n",
    "    import matplotlib.pyplot as plt\n",
    "    %matplotlib inline\n",
    "    plt.hist(series_lens[np.where(series_lens < 100)], 100)\n",
    "    plt.show()\n",
    "    plt.hist(series_lens[np.where(series_lens < 1000)], 100)\n",
    "    plt.show()\n",
    "    plt.hist(series_lens, 100)\n",
    "    plt.show()"
   ]
  },
  {
   "cell_type": "code",
   "execution_count": 6,
   "metadata": {},
   "outputs": [
    {
     "name": "stdout",
     "output_type": "stream",
     "text": [
      "unlabeled_df/* already exists\n"
     ]
    }
   ],
   "source": [
    "cache_dir = 'unlabeled'\n",
    "cache_dir_df = 'unlabeled_df'\n",
    "\n",
    "if len(os.listdir(cache_dir_df)):\n",
    "    print(f'{cache_dir_df}/* already exists')\n",
    "else:\n",
    "    print(f'writing {cache_dir_df}')\n",
    "    #dfs = []\n",
    "    series_count = 0\n",
    "    for fname in tqdm(sorted(os.listdir(cache_dir), key=lambda k:int(os.path.splitext(k)[0]))):\n",
    "        with open(os.path.join(cache_dir, fname), 'rb') as file:\n",
    "            series = pickle.load(file)\n",
    "        \n",
    "        df = pd.DataFrame(series)\n",
    "\n",
    "        try:\n",
    "\n",
    "            df.index = pd.to_datetime(df[[0]][0], unit='ms')\n",
    "\n",
    "            df_type = df[[1]].resample(freq).nearest()\n",
    "\n",
    "            df_acc = df[[2, 3, 4]].resample(freq).mean().interpolate(method='linear')\n",
    "\n",
    "            df = df_type.join(df_acc)\n",
    "\n",
    "            if len(df) < min_step: continue\n",
    "            #dfs.append(df)\n",
    "        except:\n",
    "            print(df)\n",
    "            \n",
    "        with open(os.path.join(cache_dir_df, f'{series_count}_{fname[:-4]}.pkl'), 'wb') as cache_file:\n",
    "            pickle.dump(df, cache_file)\n",
    "            series_count += 1"
   ]
  },
  {
   "cell_type": "code",
   "execution_count": 7,
   "metadata": {},
   "outputs": [],
   "source": [
    "def preview(path):\n",
    "    with open(os.path.join(cache_dir, path), 'rb') as file:\n",
    "        series = pickle.load(file)\n",
    "    print(series[:10])\n",
    "    df = pd.DataFrame(series)\n",
    "\n",
    "    try:\n",
    "\n",
    "        df.index = pd.to_datetime(df[[0]][0], unit='ms')\n",
    "\n",
    "        df_type = df[[0, 1]].resample(freq).nearest()\n",
    "\n",
    "        df_acc = df[[2, 3, 4]].resample(freq).mean().interpolate(method='linear')\n",
    "\n",
    "        df = df_type.join(df_acc)\n",
    "\n",
    "        if len(df) < min_step: \n",
    "            print(len(df))\n",
    "            return\n",
    "        #dfs.append(df)\n",
    "    except:\n",
    "        print(df)\n",
    "        \n",
    "    print(df)"
   ]
  },
  {
   "cell_type": "code",
   "execution_count": 8,
   "metadata": {
    "scrolled": false
   },
   "outputs": [
    {
     "name": "stdout",
     "output_type": "stream",
     "text": [
      "[(1377283015208, 'NoLabel', 0.06810174, -0.027240695, 9.833891), (1377283015258, 'NoLabel', 0.10896278, -0.06810174, 9.997335), (1377283015308, 'NoLabel', 0.10896278, -0.14982383, 9.997335), (1377283015358, 'NoLabel', 0.06810174, -0.027240695, 10.147159), (1377283015408, 'NoLabel', 0.06810174, -0.14982383, 10.065437), (1377283015458, 'NoLabel', 0.06810174, -0.06810174, 9.915613), (1377283015508, 'NoLabel', 0.027240695, -0.06810174, 9.915613), (1377283015558, 'NoLabel', 0.027240695, -0.06810174, 9.997335), (1377283015608, 'NoLabel', 0.027240695, -0.027240695, 9.997335), (1377283015658, 'NoLabel', 0.027240695, -0.06810174, 10.024576)]\n",
      "                                     0        1         2         3          4\n",
      "0                                                                             \n",
      "2013-08-23 18:36:55.200  1377283015208  NoLabel  0.068102 -0.027241   9.833891\n",
      "2013-08-23 18:36:55.250  1377283015258  NoLabel  0.108963 -0.068102   9.997335\n",
      "2013-08-23 18:36:55.300  1377283015308  NoLabel  0.108963 -0.149824   9.997335\n",
      "2013-08-23 18:36:55.350  1377283015358  NoLabel  0.068102 -0.027241  10.147159\n",
      "2013-08-23 18:36:55.400  1377283015408  NoLabel  0.068102 -0.149824  10.065437\n",
      "...                                ...      ...       ...       ...        ...\n",
      "2013-08-23 19:36:54.750  1377286614767  NoLabel  0.027241 -0.108963  10.024576\n",
      "2013-08-23 19:36:54.800  1377286614817  NoLabel  0.027241 -0.068102  10.065437\n",
      "2013-08-23 19:36:54.850  1377286614867  NoLabel  0.149824 -0.149824  10.024576\n",
      "2013-08-23 19:36:54.900  1377286614917  NoLabel  0.068102 -0.149824   9.915613\n",
      "2013-08-23 19:36:54.950  1377286614967  NoLabel  0.108963 -0.108963   9.997335\n",
      "\n",
      "[71996 rows x 5 columns]\n"
     ]
    }
   ],
   "source": [
    "if 0:\n",
    "    preview('0.pkl')"
   ]
  },
  {
   "cell_type": "code",
   "execution_count": null,
   "metadata": {},
   "outputs": [],
   "source": []
  }
 ],
 "metadata": {
  "kernelspec": {
   "display_name": "Python 3",
   "language": "python",
   "name": "python3"
  },
  "language_info": {
   "codemirror_mode": {
    "name": "ipython",
    "version": 3
   },
   "file_extension": ".py",
   "mimetype": "text/x-python",
   "name": "python",
   "nbconvert_exporter": "python",
   "pygments_lexer": "ipython3",
   "version": "3.7.9"
  }
 },
 "nbformat": 4,
 "nbformat_minor": 4
}
