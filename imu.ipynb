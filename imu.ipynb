{
 "cells": [
  {
   "cell_type": "markdown",
   "metadata": {},
   "source": [
    "https://www.cis.fordham.edu/wisdm/dataset.php"
   ]
  },
  {
   "cell_type": "code",
   "execution_count": 1,
   "metadata": {},
   "outputs": [],
   "source": [
    "import os\n",
    "import numpy as np\n",
    "import pandas as pd\n",
    "import pickle\n",
    "from tqdm import tqdm"
   ]
  },
  {
   "cell_type": "code",
   "execution_count": 2,
   "metadata": {},
   "outputs": [],
   "source": [
    "data_path = '../dataset/WISDM_at_v2.0/WISDM_at_v2.0_raw.txt'\n",
    "max_interval = 1000\n",
    "min_timestamp = 10\n",
    "min_step = 10\n",
    "freq = '50ms'"
   ]
  },
  {
   "cell_type": "code",
   "execution_count": 3,
   "metadata": {
    "scrolled": false
   },
   "outputs": [
    {
     "name": "stderr",
     "output_type": "stream",
     "text": [
      "3005411it [00:09, 302603.25it/s]\n"
     ]
    }
   ],
   "source": [
    "cache_path = 'cache_data.pkl'\n",
    "if os.path.isfile(cache_path):\n",
    "    print(f'loading {cache_path}')\n",
    "    with open(cache_path, 'rb') as file:\n",
    "        data = pickle.load(file)\n",
    "else:\n",
    "    print(f'writing {cache_path}')\n",
    "    data = []\n",
    "    with open(data_path, 'r') as file:\n",
    "        prev_user = None\n",
    "        prev_activity = None\n",
    "        prev_timestamp = None\n",
    "        series = None\n",
    "        for line in tqdm(file):\n",
    "            cols = line[:-2].split(',')\n",
    "\n",
    "            if len(cols) != 6: continue\n",
    "\n",
    "            user, activity, timestamp, x_acc, y_acc, z_acc = cols\n",
    "            timestamp = int(timestamp)\n",
    "            x_acc = float(x_acc)\n",
    "            y_acc = float(y_acc)\n",
    "            z_acc = float(z_acc)\n",
    "\n",
    "            if timestamp < 0: continue\n",
    "\n",
    "            item = (timestamp, activity, x_acc, y_acc, z_acc)\n",
    "            if prev_user == user and prev_activity == activity and timestamp - prev_timestamp < max_interval:\n",
    "                if prev_timestamp != timestamp:\n",
    "                    series.append(item)\n",
    "            else:\n",
    "                series = [item]\n",
    "                data.append(series)\n",
    "            prev_user = user\n",
    "            prev_activity = activity\n",
    "            prev_timestamp = timestamp\n",
    "\n",
    "    data = [series for series in data if len(series) >= min_timestamp]\n",
    "    if 0:\n",
    "        print('len(data)', len(data))\n",
    "        for series in data:\n",
    "            print(len(series), series[0])\n",
    "\n",
    "    with open(cache_path, 'wb') as file:\n",
    "        pickle.dump(data, file)"
   ]
  },
  {
   "cell_type": "code",
   "execution_count": 4,
   "metadata": {
    "scrolled": false
   },
   "outputs": [
    {
     "name": "stderr",
     "output_type": "stream",
     "text": [
      "100%|███████████████████████████████████████████████████████████████████████████████| 785/785 [00:07<00:00, 102.94it/s]\n"
     ]
    }
   ],
   "source": [
    "cache_path = 'cache_WISDM.pkl'\n",
    "if os.path.isfile(cache_path):\n",
    "    print(f'loading {cache_path}')\n",
    "    with open(cache_path, 'rb') as file:\n",
    "        dfs = pickle.load(file)\n",
    "else:\n",
    "    print(f'writing {cache_path}')\n",
    "    dfs = []\n",
    "    for series in tqdm(data):\n",
    "        df = pd.DataFrame(series)\n",
    "\n",
    "        try:\n",
    "\n",
    "            df.index = pd.to_datetime(df[[0]][0], unit='ms')\n",
    "\n",
    "            df_type = df[[1]].resample(freq).nearest()\n",
    "\n",
    "            df_acc = df[[2, 3, 4]].resample(freq).mean().interpolate(method='linear')\n",
    "\n",
    "            df = df_type.join(df_acc)\n",
    "\n",
    "            if len(df) < min_step: continue\n",
    "            dfs.append(df)\n",
    "        except:\n",
    "            print(df)\n",
    "\n",
    "    with open(cache_path, 'wb') as file:\n",
    "        pickle.dump(dfs, file)"
   ]
  },
  {
   "cell_type": "code",
   "execution_count": 14,
   "metadata": {
    "scrolled": false
   },
   "outputs": [
    {
     "data": {
      "image/png": "[encoded data removed]",
      "text/plain": [
       "<Figure size 432x288 with 1 Axes>"
      ]
     },
     "metadata": {
      "needs_background": "light"
     },
     "output_type": "display_data"
    },
    {
     "data": {
      "image/png": "[encoded data removed]",
      "text/plain": [
       "<Figure size 432x288 with 1 Axes>"
      ]
     },
     "metadata": {
      "needs_background": "light"
     },
     "output_type": "display_data"
    },
    {
     "data": {
      "image/png": "[encoded data removed]",
      "text/plain": [
       "<Figure size 432x288 with 1 Axes>"
      ]
     },
     "metadata": {
      "needs_background": "light"
     },
     "output_type": "display_data"
    }
   ],
   "source": [
    "if 0:\n",
    "    import matplotlib.pyplot as plt\n",
    "    %matplotlib inline\n",
    "    plt.hist([len(df) for df in [df for df in dfs if len(df) < 100]], 50)\n",
    "    plt.show()\n",
    "    plt.hist([len(df) for df in [df for df in dfs if 100 <= len(df) < 500]], 50)\n",
    "    plt.show()\n",
    "    plt.hist([len(df) for df in [df for df in dfs if len(df) >= 500]], 50)\n",
    "    plt.show()"
   ]
  },
  {
   "cell_type": "code",
   "execution_count": 9,
   "metadata": {},
   "outputs": [
    {
     "data": {
      "text/plain": [
       "710"
      ]
     },
     "execution_count": 9,
     "metadata": {},
     "output_type": "execute_result"
    }
   ],
   "source": [
    "len(dfs)"
   ]
  },
  {
   "cell_type": "code",
   "execution_count": 10,
   "metadata": {},
   "outputs": [
    {
     "data": {
      "text/plain": [
       "10"
      ]
     },
     "execution_count": 10,
     "metadata": {},
     "output_type": "execute_result"
    }
   ],
   "source": [
    "np.amin([len(df) for df in dfs])"
   ]
  },
  {
   "cell_type": "code",
   "execution_count": null,
   "metadata": {},
   "outputs": [],
   "source": []
  }
 ],
 "metadata": {
  "kernelspec": {
   "display_name": "Python 3",
   "language": "python",
   "name": "python3"
  },
  "language_info": {
   "codemirror_mode": {
    "name": "ipython",
    "version": 3
   },
   "file_extension": ".py",
   "mimetype": "text/x-python",
   "name": "python",
   "nbconvert_exporter": "python",
   "pygments_lexer": "ipython3",
   "version": "3.7.9"
  }
 },
 "nbformat": 4,
 "nbformat_minor": 4
}
